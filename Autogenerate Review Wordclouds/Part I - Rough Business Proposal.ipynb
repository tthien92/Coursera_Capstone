{
 "cells": [
  {
   "cell_type": "markdown",
   "metadata": {},
   "source": [
    "# Battle of the Neighborhoods - Part I - Business Proposal"
   ]
  },
  {
   "cell_type": "markdown",
   "metadata": {},
   "source": [
    "This notebook is exclusively for defining the business problem and presenting data solutions as part I of the capstone project. There is no technical coding involved"
   ]
  },
  {
   "cell_type": "markdown",
   "metadata": {},
   "source": [
    "## The Idea\n",
    "\n",
    "Two of the most common ways to assess a restaurant for its quality has been a numerical value, often between 1 and 5, and through reviews. The former can be vague, especially when the number of reviews are far too few to provide adequate insight about a restaurant's quality. The latter can be useful over time as restaurants gather more and more feedback from reviewing customers, but it is inherently cumbersome, forcing the user to scroll and read through endless reviews; for some, this can be more time-consuming than the eating out process. In today's fast-paced world, to quote a recent colloquialism, *ain't nobody got time for that*\"\n",
    "\n",
    "A picture is worth a thousand words, and people tend to prefer visual learning rather than pure homogenous reading. There is a way to abstract and summarize numerous reviews for consumers without requiring them to read endlessly (and possibly eventually hitting that one inevitable negative review)--**word clouds**.\n",
    "\n",
    "This elementary, artistic device is often handy for presenters and teachers alike because they are able to summarize a wealth of opinions in one convenient image. Granted, there is still some reading to do, but it pales in comparison to scrolling through redundant reviews. Implementing this would allow consumers another facet to evaluate restaurants in a way that provides more information than just a number ever could while stil taking the same amount of time. Like numeric scoring, word clouds can be consistently updated as well, making it a cheap and effective option that businesses can offer consumers."
   ]
  },
  {
   "cell_type": "markdown",
   "metadata": {},
   "source": [
    "## The Methodology\n",
    "\n",
    "The best ideas are often simple, allowing users to realize a need they didn't know they had. Implementing a visual word cloud for restaurants (and eventually various businesses) is a simple affair. It would rely on reviews and parse through multiple emotion words (Eg. delicious, great, disgusting, etc.) to continually update itself. As with word cloud functions, words that are mentioned more often become enlarged over time, while others diminish in size. \n",
    "\n",
    "To fine-tune this mechanic, stop words (Eg. the, his, that, was, etc.) can easily be filtered using the NLTK stop words list. Furthermore, with enough reviews, one can create individual word clouds for different aspect of a business. For example, there can be separate word clouds for a restaurant's service, parking, and food quality. The possibilities are only limited by the amount of data available. "
   ]
  }
 ],
 "metadata": {
  "kernelspec": {
   "display_name": "Python 3",
   "language": "python",
   "name": "python3"
  },
  "language_info": {
   "codemirror_mode": {
    "name": "ipython",
    "version": 3
   },
   "file_extension": ".py",
   "mimetype": "text/x-python",
   "name": "python",
   "nbconvert_exporter": "python",
   "pygments_lexer": "ipython3",
   "version": "3.7.6"
  }
 },
 "nbformat": 4,
 "nbformat_minor": 4
}
